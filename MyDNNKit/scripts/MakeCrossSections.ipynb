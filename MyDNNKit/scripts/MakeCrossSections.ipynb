{
 "cells": [
  {
   "cell_type": "code",
   "execution_count": 68,
   "metadata": {},
   "outputs": [
    {
     "name": "stdout",
     "output_type": "stream",
     "text": [
      "xsec      24.885\n",
      "Kf         0.910\n",
      "filter     1.000\n",
      "Name: 361091, dtype: float64\n"
     ]
    },
    {
     "data": {
      "text/plain": [
       "22.64535"
      ]
     },
     "execution_count": 68,
     "metadata": {},
     "output_type": "execute_result"
    }
   ],
   "source": [
    "import os\n",
    "import pandas as pd\n",
    "import numpy as np\n",
    "\n",
    "data = np.genfromtxt('XSections_13TeV.txt', comments='#',usecols = (0, 1, 2,3),dtype=[('dsid','i8'),('xsec','f8'),('Kf','f8'),('filter','f8')])\n",
    "df = pd.DataFrame(data)\n",
    "# df = pd.DataFrame(data,columns=['dsid','xsec','Kf','filter'])\n",
    "df = df.set_index('dsid')\n",
    "df.to_pickle('xsections.pkl')\n",
    "\n",
    "df2 = pd.read_pickle('xsections.pkl')\n",
    "df2.head()\n",
    "# df3 = df2.set_index('dsid')\n",
    "bla = df2.loc[361091]\n",
    "print (bla)\n",
    "result = bla[0]*bla[1]*bla[2]\n",
    "result"
   ]
  },
  {
   "cell_type": "code",
   "execution_count": null,
   "metadata": {
    "collapsed": true
   },
   "outputs": [],
   "source": []
  }
 ],
 "metadata": {
  "kernelspec": {
   "display_name": "Python 2",
   "language": "python",
   "name": "python2"
  },
  "language_info": {
   "codemirror_mode": {
    "name": "ipython",
    "version": 2
   },
   "file_extension": ".py",
   "mimetype": "text/x-python",
   "name": "python",
   "nbconvert_exporter": "python",
   "pygments_lexer": "ipython2",
   "version": "2.7.13"
  }
 },
 "nbformat": 4,
 "nbformat_minor": 2
}
