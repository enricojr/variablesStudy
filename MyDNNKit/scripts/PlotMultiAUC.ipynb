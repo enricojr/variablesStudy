{
 "cells": [
  {
   "cell_type": "code",
   "execution_count": 1,
   "metadata": {},
   "outputs": [],
   "source": [
    "import os\n",
    "import pandas as pd\n",
    "import numpy as np"
   ]
  },
  {
   "cell_type": "code",
   "execution_count": 30,
   "metadata": {},
   "outputs": [
    {
     "name": "stdout",
     "output_type": "stream",
     "text": [
      "Unnamed: 0                                    0\n",
      "BackgroundEfficiency                   0.294696\n",
      "BackgroundRejection                     3.39333\n",
      "ROC_AUC                                 0.86712\n",
      "ROC_AUC_Weighted                       0.869217\n",
      "SignalEfficiency                       0.868448\n",
      "Combo                   llqqDNN_200_64_1024_0_2\n",
      "Name: 10, dtype: object\n",
      "Unnamed: 0                                     0\n",
      "BackgroundEfficiency                    0.144224\n",
      "BackgroundRejection                      6.93364\n",
      "ROC_AUC                                   0.9555\n",
      "ROC_AUC_Weighted                        0.954512\n",
      "SignalEfficiency                        0.947349\n",
      "Combo                   llqqDNN_200_128_2048_1_2\n",
      "Name: 20, dtype: object\n"
     ]
    }
   ],
   "source": [
    "topDir = 'Train_S700_Test_S700'\n",
    "listFiles = os.listdir(topDir)\n",
    "\n",
    "auc_varset0 = []\n",
    "auc_varset1 = []\n",
    "name_varset0 = []\n",
    "name_varset1 = []\n",
    "\n",
    "appended_data_varset0 = []\n",
    "appended_data_varset1 = []\n",
    "    \n",
    "for combo in listFiles:\n",
    "        if '.png' in combo:\n",
    "            continue\n",
    "        perfDF  = pd.read_csv(topDir+'/'+combo+'/Performance.csv')\n",
    "        splitCombo = combo.split('_')\n",
    "        width = splitCombo[2]\n",
    "        batchsize = splitCombo[3]\n",
    "        varSet = splitCombo[4]\n",
    "        depth = splitCombo[5]\n",
    "        perfDF['Combo'] = combo\n",
    "        if varSet=='0':\n",
    "            appended_data_varset0.append(perfDF)\n",
    "            name_varset0 += [combo] \n",
    "            auc_varset0 += [perfDF['ROC_AUC_Weighted']]\n",
    "        if varSet=='1':\n",
    "            appended_data_varset1.append(perfDF)\n",
    "            name_varset1 += [combo] \n",
    "            auc_varset1 += [perfDF['ROC_AUC_Weighted']]\n",
    "        \n",
    "appended_data_varset0 = pd.concat(appended_data_varset0, axis=0,ignore_index=True )\n",
    "appended_data_varset1 = pd.concat(appended_data_varset1, axis=0,ignore_index=True )\n",
    "    \n",
    "print (appended_data_varset0.loc[appended_data_varset0['ROC_AUC_Weighted'].idxmax()])\n",
    "print (appended_data_varset1.loc[appended_data_varset1['ROC_AUC_Weighted'].idxmax()])\n",
    "\n",
    "\n",
    "evenRow = []\n",
    "oddRow = []\n",
    "for i in range(0,54):\n",
    "        if i%2==0:\n",
    "            evenRow += [i]\n",
    "        else:\n",
    "            oddRow += [i]"
   ]
  },
  {
   "cell_type": "code",
   "execution_count": 59,
   "metadata": {},
   "outputs": [
    {
     "data": {
      "text/plain": [
       "<Figure size 432x288 with 0 Axes>"
      ]
     },
     "metadata": {},
     "output_type": "display_data"
    },
    {
     "data": {
      "image/png": "[encoded data removed]",
      "text/plain": [
       "<Figure size 432x288 with 1 Axes>"
      ]
     },
     "metadata": {
      "needs_background": "light"
     },
     "output_type": "display_data"
    },
    {
     "data": {
      "image/png": "[encoded data removed]",
      "text/plain": [
       "<Figure size 432x288 with 1 Axes>"
      ]
     },
     "metadata": {
      "needs_background": "light"
     },
     "output_type": "display_data"
    }
   ],
   "source": [
    "from matplotlib import pyplot as plt\n",
    "from matplotlib.patches import Rectangle,Arrow\n",
    "\n",
    "plt.clf()\n",
    "fig, ax = plt.subplots()    \n",
    "plt.plot(evenRow,auc_varset0,'bo', label='Variable Set 1', markersize=3)\n",
    "plt.ylabel('AUC')\n",
    "plt.ylim([0.860, 0.960])\n",
    "plt.xticks(evenRow, name_varset0, rotation='vertical',fontsize=6)\n",
    "plt.legend(loc='best')\n",
    "fig.tight_layout()\n",
    "\n",
    "bbox_args = dict(boxstyle=\"round\", fc=\"1.0\",alpha=0.5,edgecolor='red')\n",
    "arrow_args = dict(arrowstyle=\"->\")\n",
    "\n",
    "\n",
    "# plt.savefig(topDir+\"/AUC_vs_Combo_varset1.png\")\n",
    "plt.show()\n",
    "# plt.clf()\n",
    "\n",
    "fig, ax = plt.subplots()\n",
    "plt.plot(oddRow,auc_varset1,'ro', label='Variable Set 2', markersize=3)\n",
    "plt.ylabel('AUC')\n",
    "plt.ylim([0.860, 0.960])\n",
    "plt.xticks(oddRow, name_varset1, rotation='vertical',fontsize=6)\n",
    "plt.legend(loc='best')\n",
    "\n",
    "someX, someY = 40,0.804\n",
    "ax.add_patch(Rectangle((someX, someY), 2, 0.055,clip_on=False, alpha=1.0, facecolor='None',edgecolor='r'))\n",
    "fig.tight_layout()\n",
    "# plt.savefig(topDir+\"/AUC_vs_Combo_varset2.png\")\n",
    "plt.show()\n",
    "# plt.clf()"
   ]
  },
  {
   "cell_type": "code",
   "execution_count": null,
   "metadata": {},
   "outputs": [],
   "source": []
  }
 ],
 "metadata": {
  "kernelspec": {
   "display_name": "Python 3",
   "language": "python",
   "name": "python3"
  },
  "language_info": {
   "codemirror_mode": {
    "name": "ipython",
    "version": 3
   },
   "file_extension": ".py",
   "mimetype": "text/x-python",
   "name": "python",
   "nbconvert_exporter": "python",
   "pygments_lexer": "ipython3",
   "version": "3.7.0"
  }
 },
 "nbformat": 4,
 "nbformat_minor": 2
}
