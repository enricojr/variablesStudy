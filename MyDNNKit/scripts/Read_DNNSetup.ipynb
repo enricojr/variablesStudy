{
 "cells": [
  {
   "cell_type": "code",
   "execution_count": 1,
   "metadata": {},
   "outputs": [
    {
     "name": "stdout",
     "output_type": "stream",
     "text": [
      "---- START Configuration dump ----\n",
      "InputMLNtuplePath: /nfs/kloe/einstein2/dinos/AnalysisFiles/DNNFlatNtuples/Naples_NewSelector_14_2_2019/\n",
      "rootBranchSubSample: ['l1_e', 'l1_pt', 'l1_eta', 'l1_phi', 'l2_e', 'l2_pt', 'l2_eta', 'l2_phi', 'fat_jet_E', 'fat_jet_pt', 'fat_jet_eta', 'fat_jet_phi', 'fat_jet_M', 'fat_jet_D2', 'fat_jet_C2', 'll_m', 'll_pt', 'NJETS', 'isSignal', 'weight', 'WEIGHT', 'truth_zv_mass', 'isMerged', 'reco_zv_mass_llJ', 'isCR', 'isVBFevent', 'isGGFMergedHP', 'isGGFMergedLP', 'xsec']\n",
      "PDPath: PDFiles_NewSelector/\n",
      "InputROOTFiles: []\n",
      "InputFilesSB: {}\n",
      "InputDNNVariables: [['l1_e', 'l1_pt', 'l1_eta', 'l1_phi', 'l2_e', 'l2_pt', 'l2_eta', 'l2_phi', 'll_m', 'll_pt', 'NJETS'], ['l1_e', 'l1_pt', 'l1_eta', 'l1_phi', 'l2_e', 'l2_pt', 'l2_eta', 'l2_phi', 'll_m', 'll_pt', 'fat_jet_E', 'fat_jet_pt', 'fat_jet_eta', 'fat_jet_phi', 'NJETS']]\n",
      "Params: {'WeightInitialization': \"'normal'\", 'Epochs': 200, 'Optimizer': 'Adam', 'Width': 32, 'BatchSize': 512, 'Depth': 2, 'LearningRate': 0.0003, 'VarSet': 0}\n",
      "ScanParams: {'Width': [32, 64, 128], 'BatchSize': [512, 1024, 2048], 'Depth': [2, 3, 4], 'LearningRate': [0.0003, 0.003], 'VarSet': [0, 1]}\n",
      "VariablesToPlot: ['l1_e', 'l1_pt', 'l1_eta', 'l1_phi', 'l2_e', 'l2_pt', 'l2_eta', 'l2_phi', 'll_m', 'll_pt', 'isSignal', 'weight', 'WEIGHT', 'NJETS', 'fat_jet_E', 'fat_jet_pt', 'fat_jet_eta', 'fat_jet_phi', 'fat_jet_M', 'fat_jet_D2', 'fat_jet_C2', 'truth_zv_mass', 'isMerged', 'reco_zv_mass_llJ', 'isCR', 'isVBFevent', 'isGGFMergedHP', 'isGGFMergedLP']\n",
      "CreateTrainTestPD: False\n",
      "HyperParamSet: 0\n",
      "PrintParamSet: False\n",
      "LoadModel: False\n",
      "TrainedModelPath: None\n",
      "Train: True\n",
      "DoKFold: False\n",
      "OutBaseDir: Train_MixPD_MergedggF_Radion1000\n",
      "ConvertRootToPD: False\n",
      "ModelSavePath: Train_MixPD_MergedggF_Radion1000/llqqDNN_32_512_2_0.0003_VarSet0\n",
      "VarSet: 0\n",
      "Dropout: 0.2\n",
      "ValidPlotsFromTrainTestDF: False\n",
      "ValidPlotsDataMC: False\n",
      "MixPD_TrainTestTag: MixPD_MergedggF_Radion1000\n",
      "modelTag: llqqDNN\n",
      "VarPlotPath: ./VarPlots/\n",
      "runMode: binary\n",
      "nTrainEventsSB: -1\n",
      "massPoint: None\n",
      "MaskValue: -99.0\n",
      "Scaler: StandardScaler(copy=True, with_mean=True, with_std=True)\n",
      "PreselectionCuts: \n",
      "doConfusionMatrix: False\n",
      "doEfficiency: False\n",
      "doScore: False\n",
      "doROC: False\n",
      "printSetup: False\n",
      "LoadTrainedModel: False\n",
      "modelPrefixName: llqqDNN\n",
      "ModelParamCombo: llqqDNN_32_512_2_0.0003_VarSet0\n",
      "---- END Configuration dump ----\n"
     ]
    },
    {
     "name": "stderr",
     "output_type": "stream",
     "text": [
      "/anaconda3/lib/python3.7/site-packages/sklearn/base.py:311: UserWarning: Trying to unpickle estimator StandardScaler from version 0.20.2 when using version 0.19.2. This might lead to breaking code or invalid results. Use at your own risk.\n",
      "  UserWarning)\n"
     ]
    }
   ],
   "source": [
    "import pickle\n",
    "import sys\n",
    "sys.path.insert(0, '../')\n",
    "\n",
    "from ConfigClass import *\n",
    "\n",
    "path = '../Train_MixPD_MergedggF_Radion1000/llqqDNN_32_512_2_0.0003_VarSet0/'\n",
    "f = open(path+'DNN_Setup', \"rb\")\n",
    "savedSetupClient = pickle.load(f)\n",
    "savedSetupClient.printSetupParameters()"
   ]
  },
  {
   "cell_type": "code",
   "execution_count": null,
   "metadata": {},
   "outputs": [],
   "source": []
  }
 ],
 "metadata": {
  "kernelspec": {
   "display_name": "Python 3",
   "language": "python",
   "name": "python3"
  },
  "language_info": {
   "codemirror_mode": {
    "name": "ipython",
    "version": 3
   },
   "file_extension": ".py",
   "mimetype": "text/x-python",
   "name": "python",
   "nbconvert_exporter": "python",
   "pygments_lexer": "ipython3",
   "version": "3.7.0"
  }
 },
 "nbformat": 4,
 "nbformat_minor": 2
}
